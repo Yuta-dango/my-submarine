{
 "cells": [
  {
   "cell_type": "code",
   "execution_count": 1,
   "metadata": {},
   "outputs": [],
   "source": [
    "import json\n",
    "import os\n",
    "import random\n",
    "import socket\n",
    "import sys\n",
    "import pandas as pd\n",
    "import numpy as np\n",
    "\n",
    "sys.path.append(\"/Users/hashiguchiyutaka/Desktop/3S/prog/submarine-py\")\n",
    "\n",
    "from lib.make_coordinates import make_all_coordinates, valid_coordinates, make_not_near_coordinates, all_nears, choose_nearest, distance, make_near_x_or_y, center_coordinates\n",
    "from lib.player_base import Player, PlayerShip\n",
    "\n",
    "import ipytest\n",
    "ipytest.autoconfig()"
   ]
  },
  {
   "cell_type": "code",
   "execution_count": 2,
   "metadata": {},
   "outputs": [],
   "source": [
    "class EnemyShip(PlayerShip):\n",
    "\n",
    "    # 種類と場所を与えられる．HPは自動で決まる．\n",
    "    def __init__(self, ship_type, position=None):\n",
    "        if ship_type not in PlayerShip.MAX_HPS:\n",
    "            raise ValueError('invalid type supecified')\n",
    "\n",
    "        self.type = ship_type\n",
    "        self.position = position\n",
    "        self.hp = PlayerShip.MAX_HPS[ship_type]\n",
    "\n",
    "    # ダメージを受けてHPが減る．\n",
    "    def damaged(self, d):\n",
    "        self.hp -= d\n",
    "\n",
    "    # 座標を変更する．\n",
    "    # 敵の船については、場所が確定しない限り使えない\n",
    "    def moved(self, to):\n",
    "        self.position = to\n",
    "\n",
    "    # 座標が移動できる範囲(縦横)にあるか確認する．\n",
    "    def can_reach(self, to):\n",
    "        if self.position is None:\n",
    "            raise AttributeError('You cannot specify the position')\n",
    "        return self.position[0] == to[0] or self.position[1] == to[1]\n",
    "\n",
    "    # 座標が攻撃できる範囲(自分の座標及び周囲1マス)にあるか確認する．\n",
    "    def can_attack(self, to):\n",
    "        if self.position is None:\n",
    "            raise AttributeError('You cannot specify the position')\n",
    "        return abs(to[0] - self.position[0]) <= 1\\\n",
    "            and abs(to[1] - self.position[1]) <= 1"
   ]
  },
  {
   "cell_type": "code",
   "execution_count": null,
   "metadata": {},
   "outputs": [],
   "source": [
    "class Enemy(Player):\n",
    "    def __init__(self):\n",
    "        self.df = pd.DataFrame(make_all_coordinates()) # 盤面の全パターンを初期値に\n",
    "        # self.hp = {\"w\": 3, \"c\": 2, \"s\": 1} 相手のhpは今のところ不要では？\n",
    "        self.ships = [\"w\", \"c\", \"s\"]\n",
    "\n",
    "    def remove_same_position(self):\n",
    "        \"\"\"\n",
    "        self.ships内の船の位置が重複している行を削除する\n",
    "        \"\"\"\n",
    "        # 船が1つしかなければ重複はない\n",
    "        if len(self.ships) == 1:\n",
    "            return None\n",
    "        elif len(self.ships) == 2:\n",
    "            self.df = self.df[self.df.apply(lambda x: x[self.ships[0]] != x[self.ships[1]], axis=1)]\n",
    "        else:\n",
    "            self.df = self.df[self.df.apply(lambda x: x[\"w\"] != x[\"c\"] and x[\"w\"] != x[\"s\"] and x[\"c\"] != x[\"s\"], axis=1)]\n",
    "\n",
    "        # 0になったらself.shipsからその船を消す\n",
    "        # 直接消してしまうと、remove_same_position(self.df)などの実装で不具合があるので、probを求める際に消えている船の座標はカウントしないことにする\n",
    "        # と思ったけど、こうすると、remove_same_positionで、死んだ船と被っている行動も不可能と見做されてしまう\n",
    "        # 他の船の位置の組に重複があるが、確率を考える上では問題ない\n",
    "\n",
    "    def move(self, ship_type, direction) -> None:\n",
    "        \"\"\"\n",
    "        敵のmoveを処理し、self.dfを更新\n",
    "        direction = [1,0]などの移動分を表すベクトル\n",
    "        self.df.loc[:, ship_type]を使うことでSettingWithCopyWarningをさけ、確実に元のdfを変更できるようにする\n",
    "        \"\"\"\n",
    "        delta_x = direction[0]\n",
    "        delta_y = direction[1]\n",
    "        self.df.loc[:, ship_type] = self.df[ship_type].map(lambda x: (x[0] + delta_x , x[1] + delta_y))\n",
    "        \n",
    "        \n",
    "        # 有効な座標以外の盤面を削除\n",
    "        self.df = self.df[self.df[ship_type].map(lambda x: x in valid_coordinates())]\n",
    "\n",
    "        # 座標がダブっている船を含む盤面を削除(移動によりダブってしまうことがある)\n",
    "        self.remove_same_position()\n",
    "    \n",
    "    def attack(self, position) -> None:\n",
    "        \"\"\"\n",
    "        敵のattackを処理し、self.dfを更新\n",
    "        position = [1,0]などの相手の攻撃した座標\n",
    "        positionの周囲1マス(自身を含む)にいずれかの敵がいることが確定する\n",
    "        \"\"\"\n",
    "        near_positions = all_nears(position, me=True)\n",
    "\n",
    "        # self.dfの中から、near_positionsに含まれる座標を持つ行のみを残す\n",
    "        # ただし、この時点で敵のw,c,sが全て存在するとは限らないことに注意\n",
    "\n",
    "        # self.dfの行が、near_positionsに含まれる座標を持つかどうかを判定する関数\n",
    "        def is_valid(x): # xはself.dfの行\n",
    "            for ship in self.ships:\n",
    "                if x[ship] in near_positions:\n",
    "                    return True\n",
    "            # どの船もnear_positionsに含まれる座標を持っていない場合\n",
    "            return False\n",
    "            \n",
    "        self.df = self.df[self.df.apply(is_valid, axis=1)]\n",
    "\n",
    "    def hit(self, ship_type, position) -> None:\n",
    "        \"\"\"\n",
    "        自分の攻撃がhitして、かつその船がまだ生きている時の処理\n",
    "        \"\"\"\n",
    "        coordinate = tuple(position) # 忘れずに\n",
    "        self.df = self.df[self.df[ship_type] == coordinate]\n",
    "        # print(self.prob()) hit関数が動いているなら、ここを表示すると常に確率1の座標が存在するはず\n",
    "\n",
    "    def miss(self, position) -> None:\n",
    "        \"\"\"\n",
    "        自分の攻撃がmissした時の処理\n",
    "        \"\"\"\n",
    "        # 結局、near/not_nearで処理するので何もしない\n",
    "        pass\n",
    "\n",
    "    def near(self, ship_type, position) -> None:\n",
    "        \"\"\"\n",
    "        自分の攻撃の結果、ship_typeがnearにいた時の処理\n",
    "        positionの周囲1マス(自身を含まない)にその船がいることが確定する\n",
    "        \"\"\"\n",
    "        coordinate = tuple(position)\n",
    "        # near_positionsはpositionの周囲1マス(自身を含まない)の座標\n",
    "        near_positions = all_nears(coordinate, me=False)\n",
    "        self.df = self.df[self.df[ship_type].map(lambda x: x in near_positions)]\n",
    "\n",
    "    def not_near(self, ship_type, position) -> None:\n",
    "        \"\"\" \n",
    "        自分の攻撃の結果、ship_typeがnot_nearだった時の処理\n",
    "        positionの周囲1マス(自身を含む)以外のマスにその船がいることが確定する\n",
    "        \"\"\"\n",
    "        coordinate = tuple(position)\n",
    "        # near_positionsはpositionの周囲1マス(自身を含む)の座標\n",
    "        near_positions = all_nears(coordinate, me=True)\n",
    "        self.df = self.df[self.df[ship_type].map(lambda x: x not in near_positions)]\n",
    "\n",
    "    def safe_position(self) -> set:\n",
    "        \"\"\"\n",
    "        相手の船が絶対にいない座標のsetを返す\n",
    "        \"\"\"\n",
    "        not_safe = set() # {}とするとdictになるので注意\n",
    "        for coordinate in self.prob().keys():\n",
    "            # coordinateの周囲1マス(自身を含む)の座標をnot_safeに追加\n",
    "            not_safe = not_safe | all_nears(coordinate, me=True)\n",
    "        # valid_coordinates()からnot_safeを引いたものが安全な座標\n",
    "        return valid_coordinates() - not_safe # setの差集合\n",
    "    \n",
    "    def prob(self):\n",
    "        return self.df.stack().value_counts()/len(self.df)\n",
    "    \n",
    "    def where_to_attack(self):\n",
    "        \"\"\"\n",
    "        self.dfの中から、確率高い座標(tuple)を順に返す\n",
    "        [(4, 2),(4, 0),...]\n",
    "        \"\"\"\n",
    "        return [coordinate for coordinate in self.prob().keys()]"
   ]
  },
  {
   "cell_type": "code",
   "execution_count": 32,
   "metadata": {},
   "outputs": [
    {
     "data": {
      "text/plain": [
       "(1, 0)    0.284536\n",
       "(0, 1)    0.284536\n",
       "(0, 0)    0.284536\n",
       "(1, 1)    0.284536\n",
       "(4, 0)    0.088660\n",
       "(1, 2)    0.088660\n",
       "(1, 4)    0.088660\n",
       "(2, 0)    0.088660\n",
       "(0, 3)    0.088660\n",
       "(4, 4)    0.088660\n",
       "(4, 1)    0.088660\n",
       "(3, 2)    0.088660\n",
       "(2, 1)    0.088660\n",
       "(0, 4)    0.088660\n",
       "(3, 0)    0.088660\n",
       "(2, 4)    0.088660\n",
       "(3, 3)    0.088660\n",
       "(3, 4)    0.088660\n",
       "(4, 2)    0.088660\n",
       "(1, 3)    0.088660\n",
       "(2, 2)    0.088660\n",
       "(0, 2)    0.088660\n",
       "(3, 1)    0.088660\n",
       "(4, 3)    0.088660\n",
       "(2, 3)    0.088660\n",
       "Name: count, dtype: float64"
      ]
     },
     "execution_count": 32,
     "metadata": {},
     "output_type": "execute_result"
    }
   ],
   "source": [
    "enemy = Enemy()\n",
    "enemy.attack([0,0])\n",
    "enemy.prob()"
   ]
  },
  {
   "cell_type": "code",
   "execution_count": 34,
   "metadata": {},
   "outputs": [
    {
     "data": {
      "text/plain": [
       "(4, 0)    0.26875\n",
       "(1, 1)    0.26875\n",
       "(4, 1)    0.26875\n",
       "(3, 1)    0.26875\n",
       "(3, 0)    0.26875\n",
       "(0, 0)    0.26875\n",
       "(0, 1)    0.26875\n",
       "(1, 0)    0.26875\n",
       "(0, 4)    0.05000\n",
       "(1, 4)    0.05000\n",
       "(2, 0)    0.05000\n",
       "(0, 3)    0.05000\n",
       "(4, 4)    0.05000\n",
       "(3, 2)    0.05000\n",
       "(2, 1)    0.05000\n",
       "(1, 2)    0.05000\n",
       "(4, 3)    0.05000\n",
       "(2, 4)    0.05000\n",
       "(3, 3)    0.05000\n",
       "(3, 4)    0.05000\n",
       "(4, 2)    0.05000\n",
       "(1, 3)    0.05000\n",
       "(2, 2)    0.05000\n",
       "(0, 2)    0.05000\n",
       "(2, 3)    0.05000\n",
       "Name: count, dtype: float64"
      ]
     },
     "execution_count": 34,
     "metadata": {},
     "output_type": "execute_result"
    }
   ],
   "source": [
    "enemy.attack([4,0])\n",
    "enemy.prob()"
   ]
  },
  {
   "cell_type": "code",
   "execution_count": 35,
   "metadata": {},
   "outputs": [],
   "source": [
    "enemy.attack([1,4])"
   ]
  },
  {
   "cell_type": "code",
   "execution_count": 36,
   "metadata": {},
   "outputs": [
    {
     "data": {
      "text/plain": [
       "(4, 0)    0.250000\n",
       "(1, 0)    0.250000\n",
       "(0, 1)    0.250000\n",
       "(0, 0)    0.250000\n",
       "(1, 1)    0.250000\n",
       "(3, 1)    0.250000\n",
       "(3, 0)    0.250000\n",
       "(4, 1)    0.250000\n",
       "(1, 3)    0.166667\n",
       "(2, 4)    0.166667\n",
       "(0, 4)    0.166667\n",
       "(0, 3)    0.166667\n",
       "(1, 4)    0.166667\n",
       "(2, 3)    0.166667\n",
       "Name: count, dtype: float64"
      ]
     },
     "execution_count": 36,
     "metadata": {},
     "output_type": "execute_result"
    }
   ],
   "source": [
    "enemy.prob()"
   ]
  },
  {
   "cell_type": "code",
   "execution_count": 37,
   "metadata": {},
   "outputs": [
    {
     "data": {
      "text/plain": [
       "(4, 0)    0.25\n",
       "(1, 0)    0.25\n",
       "(1, 3)    0.25\n",
       "(2, 4)    0.25\n",
       "(1, 4)    0.25\n",
       "(2, 3)    0.25\n",
       "(0, 1)    0.25\n",
       "(0, 0)    0.25\n",
       "(1, 1)    0.25\n",
       "(3, 1)    0.25\n",
       "(3, 0)    0.25\n",
       "(4, 1)    0.25\n",
       "Name: count, dtype: float64"
      ]
     },
     "execution_count": 37,
     "metadata": {},
     "output_type": "execute_result"
    }
   ],
   "source": [
    "enemy.attack([2,4])\n",
    "enemy.prob()"
   ]
  },
  {
   "cell_type": "code",
   "execution_count": 38,
   "metadata": {},
   "outputs": [
    {
     "data": {
      "text/plain": [
       "(3, 1)    0.50\n",
       "(4, 1)    0.50\n",
       "(1, 0)    0.25\n",
       "(1, 3)    0.25\n",
       "(2, 4)    0.25\n",
       "(1, 4)    0.25\n",
       "(2, 3)    0.25\n",
       "(0, 1)    0.25\n",
       "(0, 0)    0.25\n",
       "(1, 1)    0.25\n",
       "Name: count, dtype: float64"
      ]
     },
     "execution_count": 38,
     "metadata": {},
     "output_type": "execute_result"
    }
   ],
   "source": [
    "enemy.attack([4,2])\n",
    "enemy.prob()"
   ]
  },
  {
   "cell_type": "code",
   "execution_count": 39,
   "metadata": {},
   "outputs": [
    {
     "data": {
      "text/plain": [
       "(3, 1)    0.50\n",
       "(4, 1)    0.50\n",
       "(1, 0)    0.25\n",
       "(1, 3)    0.25\n",
       "(2, 4)    0.25\n",
       "(1, 4)    0.25\n",
       "(2, 3)    0.25\n",
       "(0, 1)    0.25\n",
       "(0, 0)    0.25\n",
       "(1, 1)    0.25\n",
       "Name: count, dtype: float64"
      ]
     },
     "execution_count": 39,
     "metadata": {},
     "output_type": "execute_result"
    }
   ],
   "source": [
    "enemy.attack([1,4])\n",
    "enemy.prob()"
   ]
  },
  {
   "cell_type": "code",
   "execution_count": 21,
   "metadata": {},
   "outputs": [
    {
     "data": {
      "text/html": [
       "<div>\n",
       "<style scoped>\n",
       "    .dataframe tbody tr th:only-of-type {\n",
       "        vertical-align: middle;\n",
       "    }\n",
       "\n",
       "    .dataframe tbody tr th {\n",
       "        vertical-align: top;\n",
       "    }\n",
       "\n",
       "    .dataframe thead th {\n",
       "        text-align: right;\n",
       "    }\n",
       "</style>\n",
       "<table border=\"1\" class=\"dataframe\">\n",
       "  <thead>\n",
       "    <tr style=\"text-align: right;\">\n",
       "      <th></th>\n",
       "      <th>w</th>\n",
       "      <th>c</th>\n",
       "      <th>s</th>\n",
       "    </tr>\n",
       "  </thead>\n",
       "  <tbody>\n",
       "    <tr>\n",
       "      <th>6101</th>\n",
       "      <td>(4, 1)</td>\n",
       "      <td>(3, 4)</td>\n",
       "      <td>(1, 3)</td>\n",
       "    </tr>\n",
       "    <tr>\n",
       "      <th>6107</th>\n",
       "      <td>(4, 1)</td>\n",
       "      <td>(3, 4)</td>\n",
       "      <td>(0, 4)</td>\n",
       "    </tr>\n",
       "    <tr>\n",
       "      <th>6114</th>\n",
       "      <td>(4, 1)</td>\n",
       "      <td>(3, 4)</td>\n",
       "      <td>(0, 3)</td>\n",
       "    </tr>\n",
       "    <tr>\n",
       "      <th>6116</th>\n",
       "      <td>(4, 1)</td>\n",
       "      <td>(3, 4)</td>\n",
       "      <td>(1, 4)</td>\n",
       "    </tr>\n",
       "    <tr>\n",
       "      <th>6124</th>\n",
       "      <td>(4, 1)</td>\n",
       "      <td>(4, 3)</td>\n",
       "      <td>(1, 3)</td>\n",
       "    </tr>\n",
       "    <tr>\n",
       "      <th>...</th>\n",
       "      <td>...</td>\n",
       "      <td>...</td>\n",
       "      <td>...</td>\n",
       "    </tr>\n",
       "    <tr>\n",
       "      <th>12039</th>\n",
       "      <td>(4, 3)</td>\n",
       "      <td>(0, 0)</td>\n",
       "      <td>(3, 3)</td>\n",
       "    </tr>\n",
       "    <tr>\n",
       "      <th>12047</th>\n",
       "      <td>(4, 3)</td>\n",
       "      <td>(0, 0)</td>\n",
       "      <td>(4, 4)</td>\n",
       "    </tr>\n",
       "    <tr>\n",
       "      <th>12053</th>\n",
       "      <td>(4, 3)</td>\n",
       "      <td>(1, 1)</td>\n",
       "      <td>(3, 4)</td>\n",
       "    </tr>\n",
       "    <tr>\n",
       "      <th>12062</th>\n",
       "      <td>(4, 3)</td>\n",
       "      <td>(1, 1)</td>\n",
       "      <td>(3, 3)</td>\n",
       "    </tr>\n",
       "    <tr>\n",
       "      <th>12070</th>\n",
       "      <td>(4, 3)</td>\n",
       "      <td>(1, 1)</td>\n",
       "      <td>(4, 4)</td>\n",
       "    </tr>\n",
       "  </tbody>\n",
       "</table>\n",
       "<p>112 rows × 3 columns</p>\n",
       "</div>"
      ],
      "text/plain": [
       "            w       c       s\n",
       "6101   (4, 1)  (3, 4)  (1, 3)\n",
       "6107   (4, 1)  (3, 4)  (0, 4)\n",
       "6114   (4, 1)  (3, 4)  (0, 3)\n",
       "6116   (4, 1)  (3, 4)  (1, 4)\n",
       "6124   (4, 1)  (4, 3)  (1, 3)\n",
       "...       ...     ...     ...\n",
       "12039  (4, 3)  (0, 0)  (3, 3)\n",
       "12047  (4, 3)  (0, 0)  (4, 4)\n",
       "12053  (4, 3)  (1, 1)  (3, 4)\n",
       "12062  (4, 3)  (1, 1)  (3, 3)\n",
       "12070  (4, 3)  (1, 1)  (4, 4)\n",
       "\n",
       "[112 rows x 3 columns]"
      ]
     },
     "execution_count": 21,
     "metadata": {},
     "output_type": "execute_result"
    }
   ],
   "source": [
    "enemy.move(\"w\", [4, 0])"
   ]
  },
  {
   "cell_type": "code",
   "execution_count": 22,
   "metadata": {},
   "outputs": [
    {
     "data": {
      "text/plain": [
       "(4, 3)    0.428571\n",
       "(4, 4)    0.428571\n",
       "(4, 1)    0.285714\n",
       "(3, 4)    0.285714\n",
       "(3, 3)    0.285714\n",
       "(4, 0)    0.285714\n",
       "(1, 3)    0.142857\n",
       "(0, 4)    0.142857\n",
       "(0, 3)    0.142857\n",
       "(1, 4)    0.142857\n",
       "(1, 0)    0.107143\n",
       "(0, 1)    0.107143\n",
       "(0, 0)    0.107143\n",
       "(1, 1)    0.107143\n",
       "Name: count, dtype: float64"
      ]
     },
     "execution_count": 22,
     "metadata": {},
     "output_type": "execute_result"
    }
   ],
   "source": [
    "enemy.prob()"
   ]
  },
  {
   "cell_type": "code",
   "execution_count": 11,
   "metadata": {},
   "outputs": [
    {
     "data": {
      "text/plain": [
       "(4, 2)    0.269565\n",
       "(4, 0)    0.269565\n",
       "(4, 3)    0.269565\n",
       "(4, 4)    0.269565\n",
       "(4, 1)    0.269565\n",
       "(2, 3)    0.086957\n",
       "(1, 4)    0.086957\n",
       "(2, 0)    0.086957\n",
       "(1, 1)    0.086957\n",
       "(3, 2)    0.086957\n",
       "(2, 1)    0.086957\n",
       "(1, 2)    0.086957\n",
       "(2, 4)    0.086957\n",
       "(3, 3)    0.086957\n",
       "(3, 0)    0.086957\n",
       "(1, 3)    0.086957\n",
       "(1, 0)    0.086957\n",
       "(2, 2)    0.086957\n",
       "(3, 1)    0.086957\n",
       "(3, 4)    0.086957\n",
       "(0, 4)    0.069565\n",
       "(0, 1)    0.069565\n",
       "(0, 0)    0.069565\n",
       "(0, 3)    0.069565\n",
       "(0, 2)    0.069565\n",
       "Name: count, dtype: float64"
      ]
     },
     "execution_count": 11,
     "metadata": {},
     "output_type": "execute_result"
    }
   ],
   "source": [
    "# OK\n",
    "enemy = Enemy()\n",
    "enemy.move(\"w\", [4, 0])\n",
    "enemy.prob()"
   ]
  },
  {
   "cell_type": "markdown",
   "metadata": {},
   "source": [
    "## 座標の取り出し"
   ]
  },
  {
   "cell_type": "code",
   "execution_count": 15,
   "metadata": {},
   "outputs": [
    {
     "data": {
      "text/plain": [
       "[(4, 2),\n",
       " (4, 0),\n",
       " (4, 3),\n",
       " (4, 4),\n",
       " (4, 1),\n",
       " (2, 3),\n",
       " (1, 4),\n",
       " (2, 0),\n",
       " (1, 1),\n",
       " (3, 2),\n",
       " (2, 1),\n",
       " (1, 2),\n",
       " (2, 4),\n",
       " (3, 3),\n",
       " (3, 0),\n",
       " (1, 3),\n",
       " (1, 0),\n",
       " (2, 2),\n",
       " (3, 1),\n",
       " (3, 4),\n",
       " (0, 4),\n",
       " (0, 1),\n",
       " (0, 0),\n",
       " (0, 3),\n",
       " (0, 2)]"
      ]
     },
     "execution_count": 15,
     "metadata": {},
     "output_type": "execute_result"
    }
   ],
   "source": [
    "enemy.prob().keys().tolist()"
   ]
  },
  {
   "cell_type": "code",
   "execution_count": 16,
   "metadata": {},
   "outputs": [
    {
     "data": {
      "text/plain": [
       "[[4, 2],\n",
       " [4, 0],\n",
       " [4, 3],\n",
       " [4, 4],\n",
       " [4, 1],\n",
       " [2, 3],\n",
       " [1, 4],\n",
       " [2, 0],\n",
       " [1, 1],\n",
       " [3, 2],\n",
       " [2, 1],\n",
       " [1, 2],\n",
       " [2, 4],\n",
       " [3, 3],\n",
       " [3, 0],\n",
       " [1, 3],\n",
       " [1, 0],\n",
       " [2, 2],\n",
       " [3, 1],\n",
       " [3, 4],\n",
       " [0, 4],\n",
       " [0, 1],\n",
       " [0, 0],\n",
       " [0, 3],\n",
       " [0, 2]]"
      ]
     },
     "execution_count": 16,
     "metadata": {},
     "output_type": "execute_result"
    }
   ],
   "source": [
    "[list(coordinate) for coordinate in enemy.prob().keys().tolist()]"
   ]
  },
  {
   "cell_type": "markdown",
   "metadata": {},
   "source": [
    "## 初期の実験"
   ]
  },
  {
   "cell_type": "code",
   "execution_count": null,
   "metadata": {},
   "outputs": [],
   "source": [
    "enemy = Enemy()\n",
    "enemy.prob()\n",
    "enemy.move(\"w\", \"r\", 3)\n",
    "#print(enemy.df[\"c\"].value_counts())\n",
    "enemy.move(\"w\", \"r\", 1)\n",
    "#print(enemy.df[\"c\"].value_counts())\n",
    "enemy.move(\"w\", \"d\", 4)\n",
    "print(enemy.df[\"c\"].value_counts())\n",
    "enemy.move(\"c\", \"r\", 3)\n",
    "enemy.df[\"c\"].value_counts()\n",
    "enemy.move(\"c\", \"d\", 3)\n",
    "enemy.df[\"c\"].value_counts()\n",
    "enemy.prob()\n",
    "# dictカラムに、{'w': [0, 0], 'c': [0, 1], 's': [0, 2]}のような形式で座標を格納\n",
    "# dataframe全体にapplyするときは、axis=1を指定する\n",
    "df[\"dict\"] = df.apply(lambda x: {\"w\": x[\"w\"], \"c\": x[\"c\"], \"s\": x[\"s\"]}, axis=1)\n",
    "### テスト1\n",
    "enemy = Enemy(df_start)\n",
    "enemy.move(\"s\", \"l\", 2)\n",
    "enemy.prob()\n",
    "enemy.move(\"c\", \"r\", 2)\n",
    "enemy.prob()\n",
    "enemy.move(\"c\", \"l\", 1)\n",
    "enemy.prob()\n",
    "enemy.move(\"w\", \"r\", 2)\n",
    "enemy.prob()\n",
    "enemy.move(\"c\", \"u\", 4)\n",
    "enemy.prob()\n",
    "enemy.move(\"c\", \"d\", 4)\n",
    "enemy.prob()\n",
    "enemy.move(\"w\", \"l\", 1)\n",
    "enemy.prob()\n",
    "enemy.move(\"w\", \"d\", 2)\n",
    "enemy.prob()\n",
    "enemy.move(\"w\", \"u\", 1)\n",
    "enemy.prob()\n",
    "enemy.move(\"w\", \"d\", 1)\n",
    "enemy.prob()\n",
    "enemy.move(\"w\", \"u\", 2)\n",
    "enemy.prob()\n",
    "enemy.move(\"w\", \"d\", 1)\n",
    "enemy.df[\"w\"].value_counts()\n",
    "enemy.move(\"w\", \"r\", 1)\n",
    "enemy.df[\"w\"].value_counts()\n",
    "enemy.move(\"w\", \"l\", 2)\n",
    "enemy.df[\"w\"].value_counts()\n",
    "enemy.move(\"w\", \"r\", 1)\n",
    "enemy.df[\"w\"].value_counts()\n",
    "enemy.move(\"w\", \"l\", 3)\n",
    "enemy.df[\"w\"].value_counts()\n",
    "enemy.move(\"w\", \"u\", 1)\n",
    "enemy.df[\"w\"].value_counts()\n",
    "enemy.move(\"w\", \"r\", 4)\n",
    "enemy.df[\"w\"].value_counts()\n",
    "### テスト2\n",
    "- 船を消す実装をした\n",
    "enemy = Enemy(df_start)\n",
    "enemy.move(\"s\", \"l\", 2)\n",
    "enemy.prob()\n",
    "enemy.damaged(\"s\")\n",
    "enemy.ships\n",
    "enemy.prob()\n",
    "enemy.damaged(\"c\")\n",
    "enemy.prob()\n",
    "enemy.move(\"c\", \"r\", 2)\n",
    "enemy.prob()\n",
    "enemy.move(\"c\", \"l\", 1)\n",
    "enemy.prob()\n",
    "enemy.damaged(\"c\")\n",
    "enemy.prob()\n",
    "enemy.hp\n",
    "enemy.move(\"w\", \"r\", 2)\n",
    "enemy.prob()\n",
    "enemy.move(\"w\", \"l\", 3)\n",
    "enemy.prob()\n",
    "enemy.move(\"w\", \"r\", 2)\n",
    "enemy.prob()"
   ]
  }
 ],
 "metadata": {
  "kernelspec": {
   "display_name": "Python 3",
   "language": "python",
   "name": "python3"
  },
  "language_info": {
   "codemirror_mode": {
    "name": "ipython",
    "version": 3
   },
   "file_extension": ".py",
   "mimetype": "text/x-python",
   "name": "python",
   "nbconvert_exporter": "python",
   "pygments_lexer": "ipython3",
   "version": "3.12.0"
  }
 },
 "nbformat": 4,
 "nbformat_minor": 2
}
